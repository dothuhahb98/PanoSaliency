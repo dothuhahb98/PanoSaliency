{
 "cells": [
  {
   "cell_type": "code",
   "execution_count": null,
   "metadata": {},
   "outputs": [],
   "source": []
  },
  {
   "cell_type": "code",
   "execution_count": 1,
   "metadata": {},
   "outputs": [],
   "source": [
    "import os\n",
    "import numpy as np\n",
    "import pickle"
   ]
  },
  {
   "cell_type": "code",
   "execution_count": 2,
   "metadata": {},
   "outputs": [],
   "source": [
    "\n",
    "def parse_raw(_file_name):#for 360 ds log\n",
    "  temp = open(_file_name).read().split('\\n')[:-1]\n",
    "  temp2 = [map(float, item.split(' ')) for item in temp]\n",
    "  for i, _ in enumerate(temp2):\n",
    "    item = temp2[i]\n",
    "    temp2[i] = [item[0], item[1], item[3], item[5], item[4], item[2]]\n",
    "  return np.array(temp2)\n",
    "\n",
    "def parse_raw2(_file_name):#for 360 ds log\n",
    "    temp = open(_file_name).read().split('\\n')[1:-1]#remove header and useless last line\n",
    "    temp2 = [map(float, item.split(',')[1:]) for item in temp]\n",
    "    #timestamp_list = [datetime.datetime.strptime(item.split(',')[0], \"%Y-%m-%d %H:%M:%S.%f\") for item in temp]\n",
    "    for i, _ in enumerate(temp2):\n",
    "        item = temp2[i]#timestamp, z, y, x, w, ....\n",
    "        temp2[i] = [item[0], -1, item[3], item[2], item[1], item[4]]\n",
    "    return np.array(temp2)\n",
    "\n",
    "def get_series_ds2(_file_path, _topic, _dataset=0):\n",
    "    file_name_list = []\n",
    "    series_ds = []\n",
    "    f_parse=None\n",
    "    file_sig=''\n",
    "    if _dataset==0:\n",
    "        f_parse=parse_raw\n",
    "        file_sig='.txt'\n",
    "    elif _dataset==1:\n",
    "        f_parse=parse_raw2\n",
    "        file_sig='.csv'\n",
    "    \n",
    "    for root, dirs, files in os.walk(_file_path):\n",
    "        for file in files:\n",
    "            if file.endswith(file_sig) and file.lower().find(_topic) >= 0:\n",
    "                 file_name_list.append((os.path.join(root, file)))\n",
    "\n",
    "    for idx, file_name in enumerate(file_name_list):\n",
    "        series = f_parse(file_name);\n",
    "        series_ds.append(series.tolist())\n",
    "    series_ds = np.array(series_ds)\n",
    "    return series_ds\n",
    "\n",
    "def extract_direction(_q, v0=[1, 0, 0]):\n",
    "    return _q.rotate(v0)\n",
    "\n",
    "def unit_vector(vector):\n",
    "    \"\"\" Returns the unit vector of the vector.  \"\"\"\n",
    "    return vector / np.linalg.norm(vector)\n",
    "\n",
    "def angle_between(v1, v2):\n",
    "    v1_u = unit_vector(v1)\n",
    "    v2_u = unit_vector(v2)\n",
    "    return np.arccos(np.clip(np.dot(v1_u, v2_u), -1.0, 1.0))/np.pi * 180\n",
    "    #return math.acos(np.clip(np.dot(v1_u, v2_u), -1.0, 1.0))/np.pi * 180\n",
    "\n",
    "\n",
    "\n",
    "def cutoff_vel_acc(_vector_ds):\n",
    "    dd = 7\n",
    "    stats_ds = []\n",
    "    for vec in _vector_ds:\n",
    "        stats = []\n",
    "        for idx in range(len(vec)):\n",
    "            if idx < 5:\n",
    "                continue\n",
    "            dt = vec[idx][0] - vec[idx-dd][0]\n",
    "            theta = angle_between(vec[idx][1], vec[idx-dd][1])\n",
    "            v = theta * 1.0 / dt   \n",
    "            vec[idx][2] = v\n",
    "            \n",
    "            #if idx == 1:\n",
    "            #   continue\n",
    "            dv = vec[idx][2] - vec[idx-dd][2]\n",
    "            a = dv * 1.0 / dt\n",
    "            vec[idx][3] = a\n",
    "            item = [vec[idx][0], vec[idx][1], v, a]\n",
    "            stats.append(item)\n",
    "        stats_ds.append(stats)\n",
    "    result = []\n",
    "    for vector in stats_ds:\n",
    "        #removing too fast movement\n",
    "        remove_idx = set()\n",
    "        collect_mode = 0 #0 is normal, 1 is begin fast, 2 is begin slow\n",
    "        #print stats_ds[0]\n",
    "        for idx, (timestamp, vec, v, a) in enumerate(vector):\n",
    "            if v > 20 and a > 50:\n",
    "                collect_mode = 1;\n",
    "            if a < -40 and collect_mode == 1:#slowing down\n",
    "                collect_mode = 2\n",
    "            if collect_mode == 2 and a > -50  and v < 20:#slowing down finish\n",
    "                collect_mode = 0\n",
    "            if collect_mode == 1 or collect_mode == 2:\n",
    "                remove_idx.add(idx)\n",
    "        result.append([vector[idx] for idx,_ in enumerate(vector) if idx not in remove_idx])\n",
    "    return result\n",
    "\n",
    "def get_vector_ds(_topic, _dataset=0, cutoff=True):\n",
    "    from pyquaternion import Quaternion\n",
    "    \n",
    "    if _dataset==0:\n",
    "        file_path = u'/home/u9168/salnet/Datasets/Dataset1/results/'\n",
    "    elif _dataset==1:\n",
    "        file_path = u'/home/u9168/salnet/Datasets/Dataset2/Formated_Data/Experiment_1/'\n",
    "        \n",
    "    series_ds = get_series_ds2(file_path, _topic, _dataset=_dataset)\n",
    "    vector_ds = []\n",
    "    for series in series_ds:\n",
    "        vec = []\n",
    "        #for item in series:\n",
    "        for idx in np.arange(0, len(series)):\n",
    "            item = series[idx]\n",
    "            if _dataset==0:\n",
    "                v = extract_direction(Quaternion([item[5], item[4], item[3], item[2]]))#\n",
    "            elif _dataset==1:\n",
    "                v = extract_direction(Quaternion([item[5], -item[4], item[3], -item[2]]), v0=[0, 0, 1])#\n",
    "            vec.append([item[0], v, 0, 0])#time, cur pos, angular vec, angular acc\n",
    "        vector_ds.append(vec)\n",
    "    \n",
    "    if cutoff==True:\n",
    "        result = cutoff_vel_acc(vector_ds)\n",
    "    else:\n",
    "        result = vector_ds\n",
    "    return result"
   ]
  },
  {
   "cell_type": "code",
   "execution_count": 3,
   "metadata": {},
   "outputs": [
    {
     "name": "stderr",
     "output_type": "stream",
     "text": [
      "/glob/intel-python/versions/2018u1/intelpython2/lib/python2.7/site-packages/ipykernel_launcher.py:67: RuntimeWarning: divide by zero encountered in double_scalars\n",
      "/glob/intel-python/versions/2018u1/intelpython2/lib/python2.7/site-packages/ipykernel_launcher.py:67: RuntimeWarning: invalid value encountered in double_scalars\n",
      "/glob/intel-python/versions/2018u1/intelpython2/lib/python2.7/site-packages/ipykernel_launcher.py:72: RuntimeWarning: invalid value encountered in double_scalars\n"
     ]
    }
   ],
   "source": [
    "#vector_ds = get_vector_ds('paris')\n",
    "vector_ds2 = get_vector_ds('1', _dataset=1)"
   ]
  },
  {
   "cell_type": "code",
   "execution_count": 76,
   "metadata": {},
   "outputs": [
    {
     "data": {
      "text/plain": [
       "<module 'saldat_head_orientation' from 'saldat_head_orientation.pyc'>"
      ]
     },
     "execution_count": 76,
     "metadata": {},
     "output_type": "execute_result"
    }
   ],
   "source": [
    "import saldat_head_orientation\n",
    "reload(saldat_head_orientation)"
   ]
  },
  {
   "cell_type": "code",
   "execution_count": 77,
   "metadata": {},
   "outputs": [],
   "source": [
    "dirpath1 = u'/home/u9168/salnet/Datasets/Dataset1/results/'\n",
    "dirpath2 = u'/home/u9168/salnet/Datasets/Dataset2/Formated_Data/Experiment_1/'\n",
    "ext1 = '.txt'\n",
    "ext2 = '.csv'\n",
    "headoren = saldat_head_orientation.HeadOrientation(dirpath1, dirpath2, ext1, ext2)"
   ]
  },
  {
   "cell_type": "code",
   "execution_count": 42,
   "metadata": {},
   "outputs": [],
   "source": [
    "dataset = headoren._DATASET2\n",
    "dirpath, filename_list, f_parse, f_extract_direction = headoren.load_filename_list(dataset, '3')\n",
    "series_ds = headoren.load_series_ds(filename_list, f_parse)\n",
    "vector_ds = headoren.headpos_to_headvec(series_ds, f_extract_direction)\n",
    "vector_ds = headoren.cutoff_vel_acc(vector_ds)"
   ]
  },
  {
   "cell_type": "code",
   "execution_count": 70,
   "metadata": {},
   "outputs": [],
   "source": [
    "fixation_list = headoren.get_fixation(vector_ds, 37.23)"
   ]
  },
  {
   "cell_type": "code",
   "execution_count": null,
   "metadata": {},
   "outputs": [],
   "source": []
  },
  {
   "cell_type": "code",
   "execution_count": 87,
   "metadata": {},
   "outputs": [
    {
     "data": {
      "text/plain": [
       "<module 'saldat_saliency' from 'saldat_saliency.py'>"
      ]
     },
     "execution_count": 87,
     "metadata": {},
     "output_type": "execute_result"
    }
   ],
   "source": [
    "import saldat_saliency\n",
    "reload(saldat_saliency)"
   ]
  },
  {
   "cell_type": "code",
   "execution_count": 88,
   "metadata": {},
   "outputs": [],
   "source": [
    "var = 20\n",
    "dataset=saldat_saliency.Fixation._DATASET2\n",
    "salsal = saldat_saliency.Fixation(var)"
   ]
  },
  {
   "cell_type": "code",
   "execution_count": 49,
   "metadata": {},
   "outputs": [],
   "source": [
    "heat_map0 = salsal.create_saliency(fixation_list, verbal=False)"
   ]
  },
  {
   "cell_type": "code",
   "execution_count": 50,
   "metadata": {},
   "outputs": [],
   "source": []
  },
  {
   "cell_type": "code",
   "execution_count": null,
   "metadata": {},
   "outputs": [],
   "source": []
  },
  {
   "cell_type": "code",
   "execution_count": 75,
   "metadata": {},
   "outputs": [
    {
     "data": {
      "text/plain": [
       "<module 'head_orientation_lib' from 'head_orientation_lib.pyc'>"
      ]
     },
     "execution_count": 75,
     "metadata": {},
     "output_type": "execute_result"
    }
   ],
   "source": [
    "import head_orientation_lib\n",
    "reload(head_orientation_lib)"
   ]
  },
  {
   "cell_type": "code",
   "execution_count": 89,
   "metadata": {},
   "outputs": [
    {
     "data": {
      "text/plain": [
       "<matplotlib.image.AxesImage at 0x2b0b50ad1c90>"
      ]
     },
     "execution_count": 89,
     "metadata": {},
     "output_type": "execute_result"
    },
    {
     "data": {
      "image/png": "[encoded data removed]",
      "text/plain": [
       "<matplotlib.figure.Figure at 0x2b0b7d4d7190>"
      ]
     },
     "metadata": {},
     "output_type": "display_data"
    }
   ],
   "source": [
    "#pixel_set0, fix_list0 = create_fixation_pixelset(fixation_list)\n",
    "#pixel_set, idx_list = filter_fixation(fix_list0)\n",
    "#fmap0 = create_fixation_map(pixel_set)\n",
    "\n",
    "fmap0 = headoren.create_fixation_map(fixation_list)\n",
    "plt.imshow(fmap0)\n",
    "\n",
    "#fixation maps is correct"
   ]
  },
  {
   "cell_type": "code",
   "execution_count": 90,
   "metadata": {},
   "outputs": [
    {
     "data": {
      "text/plain": [
       "<matplotlib.image.AxesImage at 0x2b0b54ca1490>"
      ]
     },
     "execution_count": 90,
     "metadata": {},
     "output_type": "execute_result"
    },
    {
     "data": {
      "image/png": "[encoded data removed]",
      "text/plain": [
       "<matplotlib.figure.Figure at 0x2b0b54a02710>"
      ]
     },
     "metadata": {},
     "output_type": "display_data"
    }
   ],
   "source": [
    "heat_map0 = salsal.create_saliency(fixation_list, verbal=False)\n",
    "\n",
    "plt.imshow(heat_map0)#rhinos-13.23"
   ]
  },
  {
   "cell_type": "code",
   "execution_count": null,
   "metadata": {},
   "outputs": [],
   "source": [
    "len(fixation_list)"
   ]
  },
  {
   "cell_type": "code",
   "execution_count": null,
   "metadata": {},
   "outputs": [],
   "source": []
  },
  {
   "cell_type": "code",
   "execution_count": null,
   "metadata": {},
   "outputs": [],
   "source": []
  },
  {
   "cell_type": "code",
   "execution_count": null,
   "metadata": {},
   "outputs": [],
   "source": []
  },
  {
   "cell_type": "code",
   "execution_count": null,
   "metadata": {},
   "outputs": [],
   "source": []
  },
  {
   "cell_type": "code",
   "execution_count": null,
   "metadata": {},
   "outputs": [],
   "source": []
  },
  {
   "cell_type": "code",
   "execution_count": null,
   "metadata": {},
   "outputs": [],
   "source": []
  },
  {
   "cell_type": "code",
   "execution_count": null,
   "metadata": {},
   "outputs": [],
   "source": []
  },
  {
   "cell_type": "code",
   "execution_count": null,
   "metadata": {},
   "outputs": [],
   "source": []
  },
  {
   "cell_type": "code",
   "execution_count": null,
   "metadata": {},
   "outputs": [],
   "source": []
  },
  {
   "cell_type": "code",
   "execution_count": 91,
   "metadata": {},
   "outputs": [],
   "source": [
    "#backup\n",
    "\n"
   ]
  },
  {
   "cell_type": "code",
   "execution_count": null,
   "metadata": {},
   "outputs": [],
   "source": []
  },
  {
   "cell_type": "code",
   "execution_count": 21,
   "metadata": {},
   "outputs": [],
   "source": [
    "\n",
    "\n",
    "from Quaternion import Quat\n",
    "from pyquaternion import Quaternion\n",
    "\n",
    "from matplotlib import pyplot as plt\n",
    "%matplotlib inline\n",
    "\n",
    "def create_fixation_map(fixation_pixelset):\n",
    "    result = np.zeros(shape=(head_orientation_lib.H, head_orientation_lib.W), dtype=np.int)\n",
    "    for x, y in fixation_pixelset:\n",
    "        result[x, y] = 1\n",
    "    return result\n",
    "\n",
    "def create_fixation_pixellist(fixation_list):\n",
    "    pixel_list = []\n",
    "    for time, v, _, _ in fixation_list:\n",
    "        theta, phi = head_orientation_lib.vector_to_ang(v)\n",
    "        x, y = head_orientation_lib.ang_to_geoxy(theta, phi, head_orientation_lib.H, head_orientation_lib.W)\n",
    "        pixel_list.append((x, y))\n",
    "    return pixel_list\n",
    "\n",
    "def create_fixation_pixelset(fixation_list):\n",
    "    pixel_set = set()\n",
    "    orifix_list = []\n",
    "    for time, v, _, _ in fixation_list:\n",
    "        theta, phi = head_orientation_lib.vector_to_ang(v)\n",
    "        x, y = head_orientation_lib.ang_to_geoxy(theta, phi, head_orientation_lib.H, head_orientation_lib.W)\n",
    "        if (x, y) not in pixel_set:\n",
    "            pixel_set.add((x, y))\n",
    "            orifix_list.append([time, v, 0, 0])\n",
    "    return pixel_set, orifix_list\n",
    "\n",
    "def filter_fixation(_fix_list):\n",
    "    result = set()\n",
    "    _geoxy_set = create_fixation_pixellist(_fix_list)\n",
    "    \n",
    "    X = [[xy[0], xy[1]] for xy in _geoxy_set]\n",
    "    #labels_true += [0 for xy in geoxy_false_set]\n",
    "    std = StandardScaler()\n",
    "    X = std.fit_transform(X)\n",
    "    db = DBSCAN(eps=0.3, min_samples=5)\n",
    "    db.fit_predict(X)\n",
    "    temp = std.inverse_transform(X[db.core_sample_indices_])\n",
    "    \n",
    "    return set([(int(item[0]), int(item[1])) for item in temp]), db.core_sample_indices_\n",
    "\n",
    "def filter_fixation_old(_geoxy_set):\n",
    "    result = set()\n",
    "    \n",
    "    X = [[xy[0], xy[1]] for xy in _geoxy_set]\n",
    "    #labels_true += [0 for xy in geoxy_false_set]\n",
    "    std = StandardScaler()\n",
    "    X = std.fit_transform(X)\n",
    "    db = DBSCAN(eps=0.3, min_samples=5)\n",
    "    db.fit_predict(X)\n",
    "    temp = std.inverse_transform(X[db.core_sample_indices_])\n",
    "    return set([(int(item[0]), int(item[1])) for item in temp]), db.core_sample_indices_\n",
    "\n",
    "def pixel_to_vec(hi, wi):\n",
    "    phi, theta = head_orientation_lib.pixel_to_ang(hi, wi, head_orientation_lib.H, head_orientation_lib.W)\n",
    "    t = Quat([0.0, theta, phi]).q #nolonger use Quat\n",
    "    q = Quaternion([t[3], t[2], -t[1], t[0]])\n",
    "    v = head_orientation_lib.extract_direction_dataset1(q)\n",
    "    return v"
   ]
  }
 ],
 "metadata": {
  "kernelspec": {
   "display_name": "Python 2 (Intel, 2018 update 1)",
   "language": "python",
   "name": "c009-intel_distribution_of_python_2_2018u1"
  },
  "language_info": {
   "codemirror_mode": {
    "name": "ipython",
    "version": 2
   },
   "file_extension": ".py",
   "mimetype": "text/x-python",
   "name": "python",
   "nbconvert_exporter": "python",
   "pygments_lexer": "ipython2",
   "version": "2.7.14"
  }
 },
 "nbformat": 4,
 "nbformat_minor": 2
}
